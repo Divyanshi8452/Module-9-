{
  "nbformat": 4,
  "nbformat_minor": 0,
  "metadata": {
    "colab": {
      "provenance": []
    },
    "kernelspec": {
      "name": "python3",
      "display_name": "Python 3"
    },
    "language_info": {
      "name": "python"
    }
  },
  "cells": [
    {
      "cell_type": "markdown",
      "source": [
        "#**Theory Questions**"
      ],
      "metadata": {
        "id": "2a6Z1g_-B6zR"
      }
    },
    {
      "cell_type": "markdown",
      "source": [
        "1. What is a RESTful API?\n",
        "--> A RESTful API (Representational State Transfer API) is a type of web API that follows the principles of REST architecture to enable communication between client and server over the HTTP protocol.\n",
        "\n",
        "2. Explain the concept of API specification.\n",
        "--> An API (Application Programming Interface) specification is a document that outlines the rules, protocols, and tools for building software applications that interact with a particular system, service, or library.\n"
      ],
      "metadata": {
        "id": "pharJcOeCBYT"
      }
    },
    {
      "cell_type": "code",
      "source": [
        "#example for ques 2\n",
        "from fastapi import FastAPI\n",
        "from pydantic import BaseModel\n",
        "\n",
        "app = FastAPI()\n",
        "\n",
        "class User(BaseModel):\n",
        "    id: int\n",
        "    name: str\n",
        "\n",
        "users = [\n",
        "    User(id=1, name=\"Divyanshi\"),\n",
        "    User(id=2, name=\"Preeti\"),\n",
        "    User(id=3, name=\"Pratima\")\n",
        "]\n",
        "\n",
        "@app.get(\"/users/{user_id}\")\n",
        "async def read_user(user_id: int):\n",
        "    return {\"user_id\": user_id}"
      ],
      "metadata": {
        "id": "EYD6S52bDa8w"
      },
      "execution_count": null,
      "outputs": []
    },
    {
      "cell_type": "markdown",
      "source": [
        "3. What is Flask, and why is it popular for building APIs?\n",
        "--> Flask is a lightweight web framework for Python that makes it easy to build web applications and APIs.\n",
        "\n",
        "it is popular for building APIs:\n",
        "- Simplicity\n",
        "- Flexibility\n",
        "- Lightweight\n",
        "- Great for RESTful APIs\n",
        "\n",
        "4. What is routing in Flask?\n",
        "--> Routing in Flask is how you tell the app what to do when a user visits a specific URL.\n",
        "Routing connects URLs to Python functions.\n",
        "These functions are called view functions and return the response (like data or HTML) for that URL.\n",
        "\n",
        "5.  How do you create a simple Flask application?\n",
        "--> Step 1: Install Flask\n",
        "Step 2: Create a Python File\n",
        "Step 3: Write Your Flask App\n",
        "Step 4: Run the App\n",
        "Step 5: Test It\n",
        "\n",
        "6.  What are HTTP methods used in RESTful APIs?\n",
        "--> In RESTful APIs, HTTP methods (also called verbs) are used to define the action the client wants to perform on a resource (like users, products, posts, etc.).\n",
        "- GET\n",
        "Purpose: Retrieve data\n",
        "Safe and read-only — doesn't change anything on the server.\n",
        "- POST\n",
        "Purpose: Create a new resource\n",
        "Used when sending new data to the server.\n",
        "- PUT\n",
        "Purpose: Update an existing resource (completely)\n",
        "Replaces the entire resource with new data.\n",
        "- PATCH\n",
        "Purpose: Partially update an existing resource\n",
        "Only changes specific fields.\n",
        "- DELETE\n",
        "Purpose: Delete a resource\n",
        "\n",
        "7. What is the purpose of the @app.route() decorator in Flask?\n",
        "--> The @app.route() decorator in Flask is used to connect a specific URL (route) to a Python function — called a view function.\n",
        "Purpose:\n",
        "@app.route() tells Flask:\n",
        "“When someone visits this URL, run this function.”\n",
        "\n",
        "\n",
        "\n",
        "\n",
        "\n",
        "\n"
      ],
      "metadata": {
        "id": "XQOqoZ5wD8EH"
      }
    },
    {
      "cell_type": "code",
      "source": [
        "#example for ques 7\n",
        "from flask import Flask\n",
        "app = Flask(__name__)\n",
        "\n",
        "@app.route('/https://www.mcaffeine.com/products/naked-raw-coffee-body-scrub-with-coconut?_pos=1&_fid=a5c07e81d&_ss=c')\n",
        "def home():\n",
        "    return 'Welcome to the homepage!'"
      ],
      "metadata": {
        "id": "_-LZVpIqIAEp"
      },
      "execution_count": null,
      "outputs": []
    },
    {
      "cell_type": "markdown",
      "source": [
        "8. What is the difference between GET and POST HTTP methods?\n",
        "--> GET vs POST HTTP Methods\n",
        "\n",
        "GET:\n",
        "- Retrieve data: GET requests are used to retrieve data from a server.\n",
        "- Data in URL: Data is sent in the URL as query parameters.\n",
        "- Idempotent: GET requests are idempotent, meaning multiple requests have the same effect as a single request.\n",
        "- Cacheable: GET requests are cacheable, meaning responses can be stored in a cache to reduce future requests.\n",
        "\n",
        "POST:\n",
        "- Send data: POST requests are used to send data to a server to create or update a resource.\n",
        "- Data in body: Data is sent in the request body.\n",
        "- Non-idempotent: POST requests are non-idempotent, meaning multiple requests can have different effects.\n",
        "- Not cacheable: POST requests are not cacheable, meaning responses are not stored in a cache.\n",
        "\n",
        "\n",
        "9. How do you handle errors in Flask APIs?\n",
        "--> - Use HTTP status codes to indicate errors\n",
        "- Use Flask,s abort() function\n",
        "- Create custom error handlers\n",
        "- Catch exceptions with try/except\n",
        "- Use validation libraries (optional)\n",
        "\n",
        "10.  How do you connect Flask to a SQL database?\n",
        "-->\n",
        "Step\t                    What it does\n",
        "- Install dependencies:\tAdds Flask and SQLAlchemy\n",
        "- Configure app:\tConnect Flask to the database\n",
        "- Define models:\tRepresent tables with Python classes\n",
        "= Use db.create_all():\tCreate tables automatically\n",
        "- Add/query data:\tUse ORM methods to manipulate data\n",
        "\n",
        "11.  What is the role of Flask-SQLAlchemy?\n",
        "-->\n",
        "- Simplifies database setup in Flask:\n",
        "It handles all the boilerplate code needed to connect Flask with SQLAlchemy, so you can start using databases quickly.\n",
        "\n",
        "- Provides an ORM for working with databases:\n",
        "Instead of writing raw SQL queries, you work with Python classes and objects — making database operations more Pythonic and easier to maintain.\n",
        "\n",
        "- Manages database sessions:\n",
        "Handles opening, committing, and rolling back transactions automatically.\n",
        "\n",
        "- Integrates seamlessly with Flask,s app context:\n",
        "Meaning it knows when to create or close database connections during a web request.\n",
        "\n",
        "12.  What are Flask blueprints, and how are they useful?\n",
        "-->\n",
        "- Think of them like mini apps or modules inside your main Flask app.\n",
        "- Each blueprint can have its own routes, templates, static files, and other code.\n",
        "- You register these blueprints on the main Flask app to combine them.\n",
        "\n",
        "Why are they useful?\n",
        "- Better organization\n",
        "- Reusability\n",
        "- Collaboration-friendly\n",
        "- Scalability\n",
        "\n",
        "13.  What is the purpose of Flask's request object?\n",
        "--> The request object in Flask represents all the information about the current HTTP request sent by the client (like a browser or API consumer).\n",
        "Purpose of Flask's request object:\n",
        "It lets you access data sent by the client so your app can process it.\n",
        "\n",
        "14. How do you create a RESTful API endpoint using Flask?\n",
        "--> Creating a RESTful API endpoint in Flask is straightforward! Here’s a simple step-by-step example to build a basic API that handles data and responds with JSON.\n",
        "- Step 1: Basic Setup\n",
        "- Step 2: Define a RESTful endpoint\n",
        "- Step 3: Run the app\n",
        "\n",
        "\n",
        "15.  What is the purpose of Flask's jsonify() function?\n",
        "--> The jsonify() function in Flask is used to convert Python data (like dictionaries or lists) into a JSON-formatted HTTP response.\n",
        "- It automatically converts your Python data structures into JSON, which is the standard format for APIs.\n",
        "- Sets the correct Content-Type header (application/json) so clients know they're getting JSON.\n",
        "- Helps you return data easily from your API endpoints.\n",
        "\n",
        "16. Explain Flask's url_for() function?\n",
        "-->\n",
        "- It generates the URL for a given function (view) by using the function's name.\n",
        "- It helps avoid errors and makes your code more maintainable—if you rename routes or change URL patterns, you don't have to update URL strings everywhere.\n",
        "- It can also build URLs with variable parts and attach query parameters easily.\n",
        "\n",
        "17. How does Flask handle static files (CSS, JavaScript, etc.)?\n",
        "--> Flask handles static files like CSS, JavaScript, and images using a special folder named static/ in your project directory.\n",
        "\n",
        "18. What is an API specification, and how does it help in building a Flask API?\n",
        "--> An API specification is a formal, structured document that clearly defines how an API should behave. It describes:\n",
        "- The available endpoints (URLs)\n",
        "- The supported HTTP methods (GET, POST, etc.)\n",
        "- The expected request parameters and payloads\n",
        "- The possible responses and their formats (including error responses)\n",
        "- Authentication and other protocols\n",
        "\n",
        "How does an API specification help when building a Flask API?\n",
        "- Clear contract upfront\n",
        "It tells developers exactly what the API will do before coding starts, reducing guesswork.\n",
        "- Consistency and documentation\n",
        "Automatically generates human- and machine-readable API docs, which help frontend teams or external users understand your API.\n",
        "- Speeds up development\n",
        "You can generate code stubs or client libraries from the spec, speeding up backend and frontend development.\n",
        "- Easier testing and validation\n",
        "Helps you validate that requests and responses follow the agreed format.\n",
        "- Improves collaboration\n",
        "Different teams (frontend, backend, QA) can work in parallel based on the spec.\n",
        "\n",
        "19. What are HTTP status codes, and why are they important in a Flask API?\n",
        "--> HTTP status codes are 3-digit numbers returned by a server in response to an HTTP request.\n",
        "They tell the client (browser, app, API consumer) whether the request was successful, failed, or needs more action.\n",
        "\n",
        "Why are they important in a Flask API?\n",
        "- In a Flask API (or any API), status codes help clients understand:\n",
        "- What happened (Success? Error?)\n",
        "- What to do next (Retry? Fix the request? Show an error?)\n",
        "Returning the correct status code makes your API:\n",
        "- Clear and easy to debug\n",
        "- Consistent with web standards\n",
        "- Easier to work with for frontend developers or external API users\n",
        "\n",
        "20. How do you handle POST requests in Flask?\n",
        "-->\n",
        "- Import the necessary modules\n",
        "- Set up a route that accepts POST\n",
        "- Test it using curl or Postman\n",
        "\n",
        "21. How would you secure a Flask API?\n",
        "--> Securing a Flask API is essential to protect your data, users, and backend services. Here's a practical breakdown of how you can secure a Flask API step-by-step:\n",
        "- Use HTTPS (SSL/TLS)\n",
        "- Use Authentication\n",
        "1. Option A: Token-based Authentication (e.g. JWT)\n",
        "2. Option B: API Keys\n",
        "- Input Validation and Sanitization\n",
        "- Rate Limiting\n",
        "- Cross-Origin Resource Sharing (CORS)\n",
        "- Error Handling\n",
        "- Secure Configuration\n",
        "\n",
        "22. What is the significance of the Flask-RESTful extension?\n",
        "--> The Flask-RESTful extension is a powerful tool that makes it easier and cleaner to build RESTful APIs with Flask.\n",
        "- Flask-RESTful is an extension for Flask that adds helpful features and structure to build REST APIs faster and more cleanly.\n",
        "- Instead of writing all your routes manually with @app.route(), Flask-RESTful lets you define API resources as Python classes.\n",
        "\n",
        "23. What is the role of Flask's session object?\n",
        "--> The session object in Flask is used to store data for a specific user across multiple requests — like user login status or temporary preferences.\n",
        "\n",
        "How does it work?\n",
        "- Flask's session is cookie-based, meaning data is stored on the client side in a secure cookie.\n",
        "- The data is signed (not encrypted) using a secret key, so the client can’t tamper with it\n",
        "\n"
      ],
      "metadata": {
        "id": "8tWSCr5WEu0T"
      }
    },
    {
      "cell_type": "markdown",
      "source": [
        "#**Practical Questions**\n"
      ],
      "metadata": {
        "id": "kKZctJloTnPD"
      }
    },
    {
      "cell_type": "code",
      "source": [
        "!pip install flask_ngrok\n",
        "!pip install pyngrok==4.1.1"
      ],
      "metadata": {
        "id": "l_lDKmgadDzw",
        "colab": {
          "base_uri": "https://localhost:8080/"
        },
        "outputId": "04c358d9-3059-4967-ff05-a32d1378ccd1"
      },
      "execution_count": 1,
      "outputs": [
        {
          "output_type": "stream",
          "name": "stdout",
          "text": [
            "Collecting flask_ngrok\n",
            "  Downloading flask_ngrok-0.0.25-py3-none-any.whl.metadata (1.8 kB)\n",
            "Requirement already satisfied: Flask>=0.8 in /usr/local/lib/python3.12/dist-packages (from flask_ngrok) (3.1.2)\n",
            "Requirement already satisfied: requests in /usr/local/lib/python3.12/dist-packages (from flask_ngrok) (2.32.4)\n",
            "Requirement already satisfied: blinker>=1.9.0 in /usr/local/lib/python3.12/dist-packages (from Flask>=0.8->flask_ngrok) (1.9.0)\n",
            "Requirement already satisfied: click>=8.1.3 in /usr/local/lib/python3.12/dist-packages (from Flask>=0.8->flask_ngrok) (8.2.1)\n",
            "Requirement already satisfied: itsdangerous>=2.2.0 in /usr/local/lib/python3.12/dist-packages (from Flask>=0.8->flask_ngrok) (2.2.0)\n",
            "Requirement already satisfied: jinja2>=3.1.2 in /usr/local/lib/python3.12/dist-packages (from Flask>=0.8->flask_ngrok) (3.1.6)\n",
            "Requirement already satisfied: markupsafe>=2.1.1 in /usr/local/lib/python3.12/dist-packages (from Flask>=0.8->flask_ngrok) (3.0.2)\n",
            "Requirement already satisfied: werkzeug>=3.1.0 in /usr/local/lib/python3.12/dist-packages (from Flask>=0.8->flask_ngrok) (3.1.3)\n",
            "Requirement already satisfied: charset_normalizer<4,>=2 in /usr/local/lib/python3.12/dist-packages (from requests->flask_ngrok) (3.4.3)\n",
            "Requirement already satisfied: idna<4,>=2.5 in /usr/local/lib/python3.12/dist-packages (from requests->flask_ngrok) (3.10)\n",
            "Requirement already satisfied: urllib3<3,>=1.21.1 in /usr/local/lib/python3.12/dist-packages (from requests->flask_ngrok) (2.5.0)\n",
            "Requirement already satisfied: certifi>=2017.4.17 in /usr/local/lib/python3.12/dist-packages (from requests->flask_ngrok) (2025.8.3)\n",
            "Downloading flask_ngrok-0.0.25-py3-none-any.whl (3.1 kB)\n",
            "Installing collected packages: flask_ngrok\n",
            "Successfully installed flask_ngrok-0.0.25\n",
            "Collecting pyngrok==4.1.1\n",
            "  Downloading pyngrok-4.1.1.tar.gz (18 kB)\n",
            "  Preparing metadata (setup.py) ... \u001b[?25l\u001b[?25hdone\n",
            "Requirement already satisfied: future in /usr/local/lib/python3.12/dist-packages (from pyngrok==4.1.1) (1.0.0)\n",
            "Requirement already satisfied: PyYAML in /usr/local/lib/python3.12/dist-packages (from pyngrok==4.1.1) (6.0.2)\n",
            "Building wheels for collected packages: pyngrok\n",
            "  Building wheel for pyngrok (setup.py) ... \u001b[?25l\u001b[?25hdone\n",
            "  Created wheel for pyngrok: filename=pyngrok-4.1.1-py3-none-any.whl size=15963 sha256=a840e0f678e143ece96c4b28075593b34fb09abd0e83420d61e108e6a9933a80\n",
            "  Stored in directory: /root/.cache/pip/wheels/0d/1f/e9/3ce954f5c5d9d30ec279ad8bc5d44666a64fb4be782cb39a2d\n",
            "Successfully built pyngrok\n",
            "Installing collected packages: pyngrok\n",
            "Successfully installed pyngrok-4.1.1\n"
          ]
        }
      ]
    },
    {
      "cell_type": "markdown",
      "source": [],
      "metadata": {
        "id": "TwoVHVMsdzIt"
      }
    },
    {
      "cell_type": "code",
      "source": [
        "from flask import flask\n",
        "from flask_ngrok import run_with_ngrok\n",
        "\n",
        "app= Flask(__name__)\n",
        "run_with_ngrok(app)\n",
        "\n",
        "@app.route(\"/\")\n",
        "def home():\n",
        "  return \"<h1>Welcome to CID</h1>\"\n",
        "\n",
        "app.run()\n"
      ],
      "metadata": {
        "colab": {
          "base_uri": "https://localhost:8080/",
          "height": 383
        },
        "id": "kjGIp_d5d0Gs",
        "outputId": "df54d9f3-05cf-4f7d-fbf2-c75a4560ba8d"
      },
      "execution_count": 2,
      "outputs": [
        {
          "output_type": "error",
          "ename": "ImportError",
          "evalue": "cannot import name 'flask' from 'flask' (/usr/local/lib/python3.12/dist-packages/flask/__init__.py)",
          "traceback": [
            "\u001b[0;31m---------------------------------------------------------------------------\u001b[0m",
            "\u001b[0;31mImportError\u001b[0m                               Traceback (most recent call last)",
            "\u001b[0;32m/tmp/ipython-input-4018220337.py\u001b[0m in \u001b[0;36m<cell line: 0>\u001b[0;34m()\u001b[0m\n\u001b[0;32m----> 1\u001b[0;31m \u001b[0;32mfrom\u001b[0m \u001b[0mflask\u001b[0m \u001b[0;32mimport\u001b[0m \u001b[0mflask\u001b[0m\u001b[0;34m\u001b[0m\u001b[0;34m\u001b[0m\u001b[0m\n\u001b[0m\u001b[1;32m      2\u001b[0m \u001b[0;32mfrom\u001b[0m \u001b[0mflask_ngrok\u001b[0m \u001b[0;32mimport\u001b[0m \u001b[0mrun_with_ngrok\u001b[0m\u001b[0;34m\u001b[0m\u001b[0;34m\u001b[0m\u001b[0m\n\u001b[1;32m      3\u001b[0m \u001b[0;34m\u001b[0m\u001b[0m\n\u001b[1;32m      4\u001b[0m \u001b[0mapp\u001b[0m\u001b[0;34m=\u001b[0m \u001b[0mFlask\u001b[0m\u001b[0;34m(\u001b[0m\u001b[0m__name__\u001b[0m\u001b[0;34m)\u001b[0m\u001b[0;34m\u001b[0m\u001b[0;34m\u001b[0m\u001b[0m\n\u001b[1;32m      5\u001b[0m \u001b[0mrun_with_ngrok\u001b[0m\u001b[0;34m(\u001b[0m\u001b[0mapp\u001b[0m\u001b[0;34m)\u001b[0m\u001b[0;34m\u001b[0m\u001b[0;34m\u001b[0m\u001b[0m\n",
            "\u001b[0;31mImportError\u001b[0m: cannot import name 'flask' from 'flask' (/usr/local/lib/python3.12/dist-packages/flask/__init__.py)",
            "",
            "\u001b[0;31m---------------------------------------------------------------------------\u001b[0;32m\nNOTE: If your import is failing due to a missing package, you can\nmanually install dependencies using either !pip or !apt.\n\nTo view examples of installing some common dependencies, click the\n\"Open Examples\" button below.\n\u001b[0;31m---------------------------------------------------------------------------\u001b[0m\n"
          ],
          "errorDetails": {
            "actions": [
              {
                "action": "open_url",
                "actionText": "Open Examples",
                "url": "/notebooks/snippets/importing_libraries.ipynb"
              }
            ]
          }
        }
      ]
    },
    {
      "cell_type": "code",
      "source": [
        "#1. How do you create a basic Flask application\n",
        "from flask import Flask\n",
        "\n",
        "app = Flask(__name__)  # Create the Flask application\n",
        "\n",
        "@app.route('/')         # Define the home route\n",
        "def home():\n",
        "    return 'Hello, Flask!'  # Response when someone visits the home page\n",
        "\n",
        "if __name__ == '__main__':\n",
        "    app.run(debug=True)"
      ],
      "metadata": {
        "id": "NYXrriqwYb1_"
      },
      "execution_count": null,
      "outputs": []
    },
    {
      "cell_type": "code",
      "source": [
        " #2. How do you serve static files like images or CSS in Flask?\n",
        "from flask import Flask, render_template\n",
        "\n",
        "app = Flask(__name__)\n",
        "\n",
        "@app.route('/')\n",
        "def index():\n",
        "    return render_template('index.html')\n",
        "\n",
        "if __name__ == '__main__':\n",
        "    app.run(debug=True)"
      ],
      "metadata": {
        "id": "hEFKu3f2XmF-"
      },
      "execution_count": null,
      "outputs": []
    },
    {
      "cell_type": "code",
      "source": [
        "#3. How do you define different routes with different HTTP methods in Flask?\n",
        "from flask import Flask, request\n",
        "\n",
        "app = Flask(__name__)\n",
        "\n",
        "@app.route('/get-only')\n",
        "def get_only():\n",
        "    return \"This route only accepts GET requests.\"\n",
        "\n",
        "@app.route('/post-only', methods=['POST'])\n",
        "def post_only():\n",
        "    return \"This route only accepts POST requests.\"\n",
        "\n",
        "@app.route('/both', methods=['GET', 'POST'])\n",
        "def both_methods():\n",
        "    if request.method == 'POST':\n",
        "        return \"Handling POST request\"\n",
        "    else:\n",
        "        return \"Handling GET request\"\n",
        "\n",
        "if __name__ == '__main__':\n",
        "    app.run(debug=True)"
      ],
      "metadata": {
        "id": "mogplxGBUER2"
      },
      "execution_count": null,
      "outputs": []
    },
    {
      "cell_type": "code",
      "source": [
        "#4.  How do you render HTML templates in Flask?\n",
        "from flask import Flask, render_template\n",
        "\n",
        "app = Flask(__name__)\n",
        "\n",
        "@app.route('/')\n",
        "def home():\n",
        "    return render_template('index.html', username='Alice')  # Pass variables here\n",
        "\n",
        "if __name__ == '__main__':\n",
        "    app.run(debug=True)\n"
      ],
      "metadata": {
        "id": "PbConcsoapM6"
      },
      "execution_count": null,
      "outputs": []
    },
    {
      "cell_type": "code",
      "source": [
        "#5.  How can you generate URLs for routes in Flask using url_for?\n",
        "from flask import Flask, url_for, render_template_string\n",
        "\n",
        "app = Flask(__name__)\n",
        "\n",
        "@app.route('/')\n",
        "def home():\n",
        "    # Generate URL for profile page dynamically\n",
        "    profile_url = url_for('profile', username='alice')\n",
        "    return f'<a href=\"{profile_url}\">Go to Alice\\'s Profile</a>'\n",
        "\n",
        "@app.route('/profile/<username>')\n",
        "def profile(username):\n",
        "    return f\"Profile page of {username}\"\n",
        "\n",
        "if __name__ == '__main__':\n",
        "    app.run(debug=True)"
      ],
      "metadata": {
        "id": "jlvFPKGSa81t"
      },
      "execution_count": null,
      "outputs": []
    },
    {
      "cell_type": "code",
      "source": [
        "#6.  How do you handle forms in Flask?\n",
        "from flask import Flask, request, render_template, redirect, url_for\n",
        "\n",
        "app = Flask(__name__)\n",
        "\n",
        "@app.route('/')\n",
        "def index():\n",
        "    return render_template('form.html')\n",
        "\n",
        "@app.route('/submit', methods=['POST'])\n",
        "def submit():\n",
        "    # Access form data\n",
        "    username = request.form['username']\n",
        "    # For example, print it or save to database\n",
        "    print(f\"User submitted: {username}\")\n",
        "    # Redirect to home or render a success page\n",
        "    return f\"Hello, {username}! Your form has been submitted.\"\n",
        "\n",
        "if __name__ == '__main__':\n",
        "    app.run(debug=True)"
      ],
      "metadata": {
        "id": "8Fi3hSP2UCXh"
      },
      "execution_count": null,
      "outputs": []
    },
    {
      "cell_type": "code",
      "source": [
        "#7. How can you validate form data in Flask?\n",
        "from flask import Flask, request, render_template, flash, redirect, url_for\n",
        "\n",
        "app = Flask(__name__)\n",
        "app.secret_key = 'your_secret_key'  # Needed for flashing messages\n",
        "\n",
        "@app.route('/submit', methods=['GET', 'POST'])\n",
        "def submit():\n",
        "    if request.method == 'POST':\n",
        "        username = request.form.get('username', '').strip()\n",
        "        age = request.form.get('age', '').strip()\n",
        "\n",
        "        errors = []\n",
        "\n",
        "        if not username:\n",
        "            errors.append('Username is required.')\n",
        "        if not age.isdigit():\n",
        "            errors.append('Age must be a number.')\n",
        "        else:\n",
        "            age = int(age)\n",
        "            if age < 18:\n",
        "                errors.append('You must be at least 18 years old.')\n",
        "\n",
        "        if errors:\n",
        "            for error in errors:\n",
        "                flash(error)  # Display errors to the user\n",
        "            return render_template('form.html')\n",
        "\n",
        "        # If no errors, process the data\n",
        "        return f\"Hello, {username}. Your age is {age}.\"\n",
        "\n",
        "    return render_template('form.html')"
      ],
      "metadata": {
        "id": "SQ1rnPjmT-XL"
      },
      "execution_count": null,
      "outputs": []
    },
    {
      "cell_type": "code",
      "source": [
        "#8. M How do you manage sessions in Flask?\n",
        "from flask import Flask, session, redirect, url_for, request\n",
        "\n",
        "app = Flask(__name__)\n",
        "app.secret_key = 'your_secret_key'\n",
        "\n",
        "@app.route('/login', methods=['POST'])\n",
        "def login():\n",
        "    username = request.form['username']\n",
        "    # Normally, you'd validate username & password here!\n",
        "    session['username'] = username  # Store data in session\n",
        "    return f\"Logged in as {username}\"\n",
        "\n",
        "@app.route('/profile')\n",
        "def profile():\n",
        "    if 'username' in session:\n",
        "        return f\"Welcome, {session['username']}!\"\n",
        "    else:\n",
        "        return \"You are not logged in.\"\n",
        "\n",
        "@app.route('/logout')\n",
        "def logout():\n",
        "    session.pop('username', None)  # Remove username from session"
      ],
      "metadata": {
        "id": "gu5eOPmVDdx2"
      },
      "execution_count": null,
      "outputs": []
    },
    {
      "cell_type": "code",
      "source": [
        "#9.  How do you redirect to a different route in Flask?\n",
        "from flask import Flask, redirect, url_for\n",
        "\n",
        "app = Flask(__name__)\n",
        "\n",
        "@app.route('/')\n",
        "def home():\n",
        "    return \"This is the home page.\"\n",
        "\n",
        "@app.route('/go-somewhere')\n",
        "def go_somewhere():\n",
        "    # Redirect to the 'home' route\n",
        "    return redirect(url_for('home'))\n",
        "\n",
        "if __name__ == '__main__':\n",
        "    app.run(debug=True)"
      ],
      "metadata": {
        "id": "agjq7LCsJ1ph"
      },
      "execution_count": null,
      "outputs": []
    },
    {
      "cell_type": "code",
      "source": [
        "#10.  How do you handle errors in Flask (e.g., 404)?\n",
        "from flask import Flask, render_template\n",
        "\n",
        "app = Flask(__name__)\n",
        "\n",
        "@app.errorhandler(404)\n",
        "def page_not_found(error):\n",
        "    # You can render a custom template or just return a message\n",
        "    return render_template('404.html'), 404"
      ],
      "metadata": {
        "id": "ZdxUdCkXcMSh"
      },
      "execution_count": 4,
      "outputs": []
    },
    {
      "cell_type": "code",
      "source": [
        "#11. How do you structure a Flask app using Blueprints?\n",
        "from app import create_app\n",
        "\n",
        "app = create_app()\n",
        "\n",
        "if __name__ == '__main__':\n",
        "    app.run(debug=True)\n",
        "    from flask import Flask\n",
        "\n",
        "def create_app():\n",
        "    app = Flask(__name__)\n",
        "\n",
        "    # Import Blueprints\n",
        "    from app.main.routes import main\n",
        "    from app.auth.routes import auth\n",
        "\n",
        "    # Register Blueprints\n",
        "    app.register_blueprint(main)\n",
        "    app.register_blueprint(auth, url_prefix='/auth')\n",
        "\n",
        "    return app\n",
        "    from flask import Blueprint, render_template\n",
        "\n",
        "main = Blueprint('main', __name__)\n",
        "\n",
        "@main.route('/')\n",
        "def index():\n",
        "    return render_template('main/index.html')\n",
        "    from flask import Blueprint, render_template\n",
        "\n",
        "auth = Blueprint('auth', __name__)\n",
        "\n",
        "@auth.route('/login')\n",
        "def login():\n",
        "    return render_template('auth/login.html')"
      ],
      "metadata": {
        "id": "crxK7DqFczFk",
        "colab": {
          "base_uri": "https://localhost:8080/",
          "height": 383
        },
        "outputId": "37ce7d5e-2f57-49b4-af90-3dc68b0110c4"
      },
      "execution_count": 5,
      "outputs": [
        {
          "output_type": "error",
          "ename": "ModuleNotFoundError",
          "evalue": "No module named 'app'",
          "traceback": [
            "\u001b[0;31m---------------------------------------------------------------------------\u001b[0m",
            "\u001b[0;31mModuleNotFoundError\u001b[0m                       Traceback (most recent call last)",
            "\u001b[0;32m/tmp/ipython-input-1162925722.py\u001b[0m in \u001b[0;36m<cell line: 0>\u001b[0;34m()\u001b[0m\n\u001b[1;32m      1\u001b[0m \u001b[0;31m#11. How do you structure a Flask app using Blueprints?\u001b[0m\u001b[0;34m\u001b[0m\u001b[0;34m\u001b[0m\u001b[0m\n\u001b[0;32m----> 2\u001b[0;31m \u001b[0;32mfrom\u001b[0m \u001b[0mapp\u001b[0m \u001b[0;32mimport\u001b[0m \u001b[0mcreate_app\u001b[0m\u001b[0;34m\u001b[0m\u001b[0;34m\u001b[0m\u001b[0m\n\u001b[0m\u001b[1;32m      3\u001b[0m \u001b[0;34m\u001b[0m\u001b[0m\n\u001b[1;32m      4\u001b[0m \u001b[0mapp\u001b[0m \u001b[0;34m=\u001b[0m \u001b[0mcreate_app\u001b[0m\u001b[0;34m(\u001b[0m\u001b[0;34m)\u001b[0m\u001b[0;34m\u001b[0m\u001b[0;34m\u001b[0m\u001b[0m\n\u001b[1;32m      5\u001b[0m \u001b[0;34m\u001b[0m\u001b[0m\n",
            "\u001b[0;31mModuleNotFoundError\u001b[0m: No module named 'app'",
            "",
            "\u001b[0;31m---------------------------------------------------------------------------\u001b[0;32m\nNOTE: If your import is failing due to a missing package, you can\nmanually install dependencies using either !pip or !apt.\n\nTo view examples of installing some common dependencies, click the\n\"Open Examples\" button below.\n\u001b[0;31m---------------------------------------------------------------------------\u001b[0m\n"
          ],
          "errorDetails": {
            "actions": [
              {
                "action": "open_url",
                "actionText": "Open Examples",
                "url": "/notebooks/snippets/importing_libraries.ipynb"
              }
            ]
          }
        }
      ]
    },
    {
      "cell_type": "code",
      "source": [
        "#12. How do you define a custom Jinja filter in Flask?\n",
        "from flask import Flask, render_template_string\n",
        "\n",
        "# Step 1: Create the Flask app\n",
        "app = Flask(__name__)\n",
        "\n",
        "# Step 2: Define the custom Jinja filter\n",
        "def reverse_string(s):\n",
        "    return s[::-1]\n",
        "\n",
        "# Step 3: Register the filter with the Jinja environment\n",
        "app.jinja_env.filters['reverse'] = reverse_string\n",
        "\n",
        "# Step 4: Create a route that uses the filter in a template\n",
        "@app.route('/')\n",
        "def home():\n",
        "    name = \"Flask\"\n",
        "    # Using an inline template for demonstration\n",
        "    template = '''\n",
        "    <!DOCTYPE html>\n",
        "    <html>\n",
        "    <head><title>Custom Filter</title></head>\n",
        "    <body>\n",
        "        <h2>Original: {{ name }}</h2>\n",
        "        <h2>Reversed: {{ name | reverse }}</h2>\n",
        "    </body>\n",
        "    </html>\n",
        "    '''\n",
        "    return render_template_string(template, name=name)\n",
        "\n",
        "# Step 5: Run the app\n",
        "if __name__ == '__main__':\n",
        "    app.run(debug=True)"
      ],
      "metadata": {
        "colab": {
          "base_uri": "https://localhost:8080/"
        },
        "id": "NB2MYn8Vf6HK",
        "outputId": "5ec6e628-fdb6-49e7-b1ea-007fa58121b7"
      },
      "execution_count": null,
      "outputs": [
        {
          "output_type": "stream",
          "name": "stdout",
          "text": [
            " * Serving Flask app '__main__'\n",
            " * Debug mode: on\n"
          ]
        },
        {
          "output_type": "stream",
          "name": "stderr",
          "text": [
            "INFO:werkzeug:\u001b[31m\u001b[1mWARNING: This is a development server. Do not use it in a production deployment. Use a production WSGI server instead.\u001b[0m\n",
            " * Running on http://127.0.0.1:5000\n",
            "INFO:werkzeug:\u001b[33mPress CTRL+C to quit\u001b[0m\n",
            "INFO:werkzeug: * Restarting with watchdog (inotify)\n"
          ]
        }
      ]
    },
    {
      "cell_type": "code",
      "source": [
        "#13. How can you redirect with query parameters in Flask\n",
        "from flask import Flask, redirect, url_for, request\n",
        "\n",
        "app = Flask(__name__)\n",
        "\n",
        "@app.route('/')\n",
        "def home():\n",
        "    # Redirect to /dashboard with query parameters\n",
        "    return redirect(url_for('dashboard', user='alice', msg='welcome'))\n",
        "\n",
        "@app.route('/dashboard')\n",
        "def dashboard():\n",
        "    user = request.args.get('user')\n",
        "    msg = request.args.get('msg')\n",
        "    return f\"Hello {user}, message: {msg}\"\n",
        "\n",
        "if __name__ == '__main__':\n",
        "    app.run(debug=True)\n"
      ],
      "metadata": {
        "id": "8dhQp83VgNcL"
      },
      "execution_count": null,
      "outputs": []
    },
    {
      "cell_type": "code",
      "source": [
        "#14.  How do you return JSON responses in Flask?\n",
        "rom flask import Flask, jsonify\n",
        "\n",
        "app = Flask(__name__)\n",
        "\n",
        "@app.route('/api/data')\n",
        "def get_data():\n",
        "    data = {\n",
        "        \"name\": \"Alice\",\n",
        "        \"age\": 30,\n",
        "        \"language\": \"Python\"\n",
        "    }\n",
        "    return jsonify(data)\n",
        "\n",
        "if __name__ == '__main__':\n",
        "    app.run(debug=True)"
      ],
      "metadata": {
        "id": "9csC8_pvgpqM"
      },
      "execution_count": null,
      "outputs": []
    },
    {
      "cell_type": "code",
      "source": [
        "#15. How do you capture URL parameters in Flask?\n",
        "from flask import Flask\n",
        "\n",
        "app = Flask(__name__)\n",
        "\n",
        "@app.route('/user/<username>')\n",
        "def show_user(username):\n",
        "    return f\"Hello, {username}!\""
      ],
      "metadata": {
        "id": "Zd5tKEFvg1dq"
      },
      "execution_count": null,
      "outputs": []
    }
  ]
}